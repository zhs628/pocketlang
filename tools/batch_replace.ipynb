{
 "cells": [
  {
   "cell_type": "code",
   "execution_count": 2,
   "metadata": {},
   "outputs": [],
   "source": [
    "import re\n",
    "import os\n",
    "\n",
    "def replace_in_file(file_path, pattern, repl):\n",
    "    with open(file_path, 'rt', encoding='utf-8') as f:\n",
    "        s = f.read()\n",
    "    new_s = re.sub(pattern, repl, s)\n",
    "    if s == new_s:\n",
    "        return\n",
    "    with open(file_path, 'wt', encoding='utf-8') as f:\n",
    "        f.write(new_s)\n",
    "\n",
    "def replace_in_dir(dir_path, pattern, repl):\n",
    "    for root, dirs, files in os.walk(dir_path):\n",
    "        for file in files:\n",
    "            if file.endswith('.pk'):\n",
    "                replace_in_file(os.path.join(root, file), pattern, repl)\n",
    "\n",
    "pattern = r'(-?\\d{1,})\\.\\.(-?\\d{1,})'\n",
    "\n",
    "replace_in_dir('../', pattern, lambda m: f'range({m.group(1)}, {m.group(2)})')"
   ]
  }
 ],
 "metadata": {
  "kernelspec": {
   "display_name": "Python 3.8.10 64-bit",
   "language": "python",
   "name": "python3"
  },
  "language_info": {
   "codemirror_mode": {
    "name": "ipython",
    "version": 3
   },
   "file_extension": ".py",
   "mimetype": "text/x-python",
   "name": "python",
   "nbconvert_exporter": "python",
   "pygments_lexer": "ipython3",
   "version": "3.8.10"
  },
  "orig_nbformat": 4,
  "vscode": {
   "interpreter": {
    "hash": "916dbcbb3f70747c44a77c7bcd40155683ae19c65e1c03b4aa3499c5328201f1"
   }
  }
 },
 "nbformat": 4,
 "nbformat_minor": 2
}
